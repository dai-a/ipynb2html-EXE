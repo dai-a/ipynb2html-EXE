{
 "cells": [
  {
   "cell_type": "markdown",
   "metadata": {},
   "source": [
    "# setting"
   ]
  },
  {
   "cell_type": "code",
   "execution_count": 1,
   "metadata": {},
   "outputs": [],
   "source": [
    "import os\n",
    "import data_tpl\n",
    "from jinja2 import DictLoader\n",
    "from nbconvert import HTMLExporter"
   ]
  },
  {
   "cell_type": "code",
   "execution_count": 2,
   "metadata": {},
   "outputs": [],
   "source": [
    "# pyinstallerからカレントディレクトリを取得するための関数\n",
    "# why? カレントディレクトリがデフォルトだとhomeに変更されていて、データの出力先を制御しにくいためこの関数を定義。\n",
    "def mypath():\n",
    "    import sys\n",
    "    from pathlib import Path\n",
    "      \n",
    "    p = Path(sys.argv[0])\n",
    "    return p if p.suffix == \".exe\" else p.parent"
   ]
  },
  {
   "cell_type": "code",
   "execution_count": 3,
   "metadata": {},
   "outputs": [
    {
     "name": "stdout",
     "output_type": "stream",
     "text": [
      "mypath /Users/dai_arima/.pyenv/versions/3.7.3/lib/python3.7/site-packages\n",
      "__file__ is not defined\n",
      "os.getwd() /project/20200208_jinja2_basic\n"
     ]
    }
   ],
   "source": [
    "\n",
    "#pathの参照先を確認\n",
    "#why? もともと開発をjupyter notebook でやっていたため、pyinstaller特有のpathへ変更されることを確認するため。\n",
    "print('mypath',mypath())\n",
    "\n",
    "if '__file__' in locals():\n",
    "    print('__file__',__file__)\n",
    "else:\n",
    "    print('__file__', 'is not defined')\n",
    "\n",
    "print('os.getwd()',os.getcwd())"
   ]
  },
  {
   "cell_type": "markdown",
   "metadata": {},
   "source": [
    "# INPUT_PATH"
   ]
  },
  {
   "cell_type": "code",
   "execution_count": 4,
   "metadata": {},
   "outputs": [
    {
     "name": "stdout",
     "output_type": "stream",
     "text": [
      "input and output files: ('./ipynb2html.ipynb', './ipynb2html.html')\n"
     ]
    }
   ],
   "source": [
    "if 'get_ipython'  in globals(): \n",
    "    INPUT_PATH = './' # from jupyter notebook\n",
    "else:\n",
    "    INPUT_PATH = str(mypath()) + '/' # from exefile\n",
    "\n",
    "\n",
    "inpath_notebooks = []\n",
    "for i in os.listdir(INPUT_PATH):\n",
    "    if i.endswith('.ipynb'):\n",
    "        inpath_notebooks.append(INPUT_PATH + i)\n",
    "\n",
    "outpath_notebooks = list(map(lambda x: x.replace('.ipynb','.html'),inpath_notebooks))\n",
    "\n",
    "for i in list(zip(inpath_notebooks,outpath_notebooks)):\n",
    "    print('input and output files:',i)"
   ]
  },
  {
   "cell_type": "markdown",
   "metadata": {},
   "source": [
    "# main"
   ]
  },
  {
   "cell_type": "code",
   "execution_count": 5,
   "metadata": {},
   "outputs": [],
   "source": [
    "# 変換元となるipynbをテキストとして読み込む\n",
    "def readFile(path):\n",
    "    with open(path, 'r') as f:\n",
    "        return f.read()\n",
    "\n",
    "target_notebook_list = list(\n",
    "                                            map(lambda x: \n",
    "                                                        readFile(x),\n",
    "                                                        inpath_notebooks)\n",
    "                                        )"
   ]
  },
  {
   "cell_type": "code",
   "execution_count": 6,
   "metadata": {},
   "outputs": [
    {
     "name": "stdout",
     "output_type": "stream",
     "text": [
      "{'cell_type': 'markdown', 'metadata': {}, 'source': '# setting'}\n"
     ]
    }
   ],
   "source": [
    "# テキストデータをnotebook形式に変換\n",
    "import nbformat\n",
    "target_notebook_nb = list(map(lambda x: \n",
    "                                                  nbformat.reads(str(x), as_version=4),\n",
    "                                                  target_notebook_list)\n",
    "                                          )\n",
    "\n",
    "print(target_notebook_nb[0].cells[0])"
   ]
  },
  {
   "cell_type": "code",
   "execution_count": 7,
   "metadata": {},
   "outputs": [],
   "source": [
    "# jinja2の形式で書かれたtplファイルを複数読み込む\n",
    "dl = DictLoader(data_tpl.dict_tpl)\n",
    "exportHTML = HTMLExporter(extra_loaders=[dl])\n",
    "exportHTML.template_file = 'toc2.tpl'"
   ]
  },
  {
   "cell_type": "code",
   "execution_count": 8,
   "metadata": {},
   "outputs": [],
   "source": [
    "# htmlファイルへ変換\n",
    "for notebook, outpath in zip(target_notebook_nb,outpath_notebooks):\n",
    "    (body, resources) = exportHTML.from_notebook_node(notebook)\n",
    "    with open(outpath,'w') as f:\n",
    "        f.write(body)"
   ]
  },
  {
   "cell_type": "code",
   "execution_count": null,
   "metadata": {},
   "outputs": [],
   "source": []
  },
  {
   "cell_type": "code",
   "execution_count": null,
   "metadata": {},
   "outputs": [],
   "source": []
  }
 ],
 "metadata": {
  "kernelspec": {
   "display_name": "Python 3",
   "language": "python",
   "name": "python3"
  },
  "language_info": {
   "codemirror_mode": {
    "name": "ipython",
    "version": 3
   },
   "file_extension": ".py",
   "mimetype": "text/x-python",
   "name": "python",
   "nbconvert_exporter": "python",
   "pygments_lexer": "ipython3",
   "version": "3.7.3"
  },
  "toc": {
   "base_numbering": 1,
   "nav_menu": {},
   "number_sections": true,
   "sideBar": true,
   "skip_h1_title": false,
   "title_cell": "Table of Contents",
   "title_sidebar": "Contents",
   "toc_cell": false,
   "toc_position": {
    "height": "calc(100% - 180px)",
    "left": "10px",
    "top": "150px",
    "width": "399px"
   },
   "toc_section_display": true,
   "toc_window_display": true
  }
 },
 "nbformat": 4,
 "nbformat_minor": 2
}
